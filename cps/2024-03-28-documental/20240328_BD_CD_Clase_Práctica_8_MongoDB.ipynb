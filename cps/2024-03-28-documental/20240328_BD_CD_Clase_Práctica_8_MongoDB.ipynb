{
 "cells": [
  {
   "cell_type": "markdown",
   "metadata": {},
   "source": [
    "# Bases de Datos\n",
    "## Clase Práctica 8: Bases de Datos Documentales. MongoDB"
   ]
  },
  {
   "cell_type": "markdown",
   "metadata": {},
   "source": [
    "### Configuración ⚙️"
   ]
  },
  {
   "cell_type": "code",
   "execution_count": 2,
   "metadata": {},
   "outputs": [],
   "source": [
    "from pymongo import MongoClient\n",
    "client = MongoClient(\"mongodb://localhost:27017/\")\n",
    "\n",
    "db = client.bookstore"
   ]
  },
  {
   "cell_type": "code",
   "execution_count": 33,
   "metadata": {},
   "outputs": [
    {
     "data": {
      "text/plain": [
       "InsertManyResult([ObjectId('6605b5a51e744ca12a62d274'), ObjectId('6605b5a51e744ca12a62d275'), ObjectId('6605b5a51e744ca12a62d276'), ObjectId('6605b5a51e744ca12a62d277'), ObjectId('6605b5a51e744ca12a62d278')], acknowledged=True)"
      ]
     },
     "execution_count": 33,
     "metadata": {},
     "output_type": "execute_result"
    }
   ],
   "source": [
    "db.books.delete_many({})\n",
    "db.books.insert_many([\n",
    "    {\n",
    "        \"title\": \"The Way of Kings\",\n",
    "        \"author\": \"Brandon Sanderson\",\n",
    "        \"rating\": 9,\n",
    "        \"pages\": 320,\n",
    "        \"genres\": [\"fantasy\"],\n",
    "        \"reviews\": [\n",
    "            {\"name\": \"Yoshi\", \"body\": \"Great book!!!\"},\n",
    "            {\"name\": \"mario\", \"body\": \"So so\"}\n",
    "        ]\n",
    "    },\n",
    "    {\n",
    "        \"title\": \"The Light Fantastic\",\n",
    "        \"author\": \"Terry Pratchett\",\n",
    "        \"pages\": 250,\n",
    "        \"rating\": 6,\n",
    "        \"genres\": [\"fantasy\", \"magic\"],\n",
    "        \"reviews\": [\n",
    "            {\"name\": \"luigi\", \"body\": \"it was pretty good\"},\n",
    "            {\"name\": \"bowser\", \"body\": \"loved it!!\"}\n",
    "        ]\n",
    "    },\n",
    "    {\n",
    "        \"title\": \"The Name of the Wind\",\n",
    "        \"author\": \"Patrick Rothfuss\",\n",
    "        \"pages\": 500,  \n",
    "        \"rating\": 10,\n",
    "        \"genres\": [\"fantasy\"],\n",
    "        \"reviews\": [  \n",
    "            {\"name\": \"peach\", \"body\": \"one of my favs\"}\n",
    "        ]\n",
    "    },\n",
    "    {\n",
    "        \"title\": \"The Color of Magic\",\n",
    "        \"author\": \"Terry Pratchett\",\n",
    "        \"pages\": 350,  \n",
    "        \"rating\": 8,\n",
    "        \"genres\": [\"fantasy\", \"magic\"],\n",
    "        \"reviews\": [  \n",
    "            {\"name\": \"luigi\", \"body\": \"it was ok\"},\n",
    "            {\"name\": \"bowser\", \"body\": \"really good book\"}\n",
    "        ]\n",
    "    },\n",
    "    {\n",
    "        \"title\": \"1984\",\n",
    "        \"author\": \"George Orwell\",\n",
    "        \"pages\": 300,\n",
    "        \"rating\": 6,\n",
    "        \"genres\": [\"sci-fi\", \"dystopian\"],\n",
    "        \"reviews\": [\n",
    "            {\"name\": \"peach\", \"body\": \"not my cup of tea\"},\n",
    "            {\"name\": \"mario\", \"body\": \"meh\"}\n",
    "        ]\n",
    "    }\n",
    "])"
   ]
  },
  {
   "cell_type": "code",
   "execution_count": 4,
   "metadata": {},
   "outputs": [
    {
     "data": {
      "text/plain": [
       "InsertManyResult([ObjectId('6605ad4e1e744ca12a62d26e'), ObjectId('6605ad4e1e744ca12a62d26f'), ObjectId('6605ad4e1e744ca12a62d270'), ObjectId('6605ad4e1e744ca12a62d271')], acknowledged=True)"
      ]
     },
     "execution_count": 4,
     "metadata": {},
     "output_type": "execute_result"
    }
   ],
   "source": [
    "db.authors.delete_many({})\n",
    "db.authors.insert_many([\n",
    "    {\n",
    "        \"name\": \"Brandon Sanderson\",\n",
    "        \"birthYear\": 1975,\n",
    "        \"nationality\": \"American\",\n",
    "        \"awards\": [\"Hugo Award for Best Novella\"]\n",
    "    },\n",
    "    {\n",
    "        \"name\": \"Terry Pratchett\",\n",
    "        \"birthYear\": 1948,\n",
    "        \"nationality\": \"British\",\n",
    "        \"awards\": [\"Carnegie Medal\"]\n",
    "    },\n",
    "    {\n",
    "        \"name\": \"Patrick Rothfuss\",\n",
    "        \"birthYear\": 1973,\n",
    "        \"nationality\": \"American\",\n",
    "        \"awards\": [\"Quill Award\"]\n",
    "    },\n",
    "    {\n",
    "        \"name\": \"George Orwell\",\n",
    "        \"birthYear\": 1903,\n",
    "        \"nationality\": \"British\",\n",
    "        \"awards\": []\n",
    "    }\n",
    "])"
   ]
  },
  {
   "cell_type": "markdown",
   "metadata": {},
   "source": [
    "### Ejercicios 🏋️‍♂️"
   ]
  },
  {
   "cell_type": "markdown",
   "metadata": {},
   "source": [
    "1. Obtenga todos los libros con una puntuación de 6 puntos. "
   ]
  },
  {
   "cell_type": "code",
   "execution_count": 8,
   "metadata": {},
   "outputs": [
    {
     "data": {
      "text/plain": [
       "[{'_id': ObjectId('6605ad351e744ca12a62d26a'),\n",
       "  'title': 'The Light Fantastic',\n",
       "  'author': 'Terry Pratchett',\n",
       "  'pages': 250,\n",
       "  'rating': 6,\n",
       "  'genres': ['fantasy', 'magic'],\n",
       "  'reviews': [{'name': 'luigi', 'body': 'it was pretty good'},\n",
       "   {'name': 'bowser', 'body': 'loved it!!'}]},\n",
       " {'_id': ObjectId('6605ad351e744ca12a62d26d'),\n",
       "  'title': '1984',\n",
       "  'author': 'George Orwell',\n",
       "  'pages': 300,\n",
       "  'rating': 6,\n",
       "  'genres': ['sci-fi', 'dystopian'],\n",
       "  'reviews': [{'name': 'peach', 'body': 'not my cup of tea'},\n",
       "   {'name': 'mario', 'body': 'meh'}]}]"
      ]
     },
     "execution_count": 8,
     "metadata": {},
     "output_type": "execute_result"
    }
   ],
   "source": [
    "list(db.books.find({\"rating\": 6}))"
   ]
  },
  {
   "cell_type": "markdown",
   "metadata": {},
   "source": [
    "2. Obtenga todos los libros con una puntuación **mayor** a 7 puntos. "
   ]
  },
  {
   "cell_type": "code",
   "execution_count": 10,
   "metadata": {},
   "outputs": [
    {
     "data": {
      "text/plain": [
       "[{'_id': ObjectId('6605ad351e744ca12a62d269'),\n",
       "  'title': 'The Way of Kings',\n",
       "  'author': 'Brandon Sanderson',\n",
       "  'rating': 9,\n",
       "  'pages': 320,\n",
       "  'genres': ['fantasy'],\n",
       "  'reviews': [{'name': 'Yoshi', 'body': 'Great book!!!'},\n",
       "   {'name': 'mario', 'body': 'So so'}]},\n",
       " {'_id': ObjectId('6605ad351e744ca12a62d26b'),\n",
       "  'title': 'The Name of the Wind',\n",
       "  'author': 'Patrick Rothfuss',\n",
       "  'pages': 500,\n",
       "  'rating': 10,\n",
       "  'genres': ['fantasy'],\n",
       "  'reviews': [{'name': 'peach', 'body': 'one of my favs'}]},\n",
       " {'_id': ObjectId('6605ad351e744ca12a62d26c'),\n",
       "  'title': 'The Color of Magic',\n",
       "  'author': 'Terry Pratchett',\n",
       "  'pages': 350,\n",
       "  'rating': 8,\n",
       "  'genres': ['fantasy', 'magic'],\n",
       "  'reviews': [{'name': 'luigi', 'body': 'it was ok'},\n",
       "   {'name': 'bowser', 'body': 'really good book'}]}]"
      ]
     },
     "execution_count": 10,
     "metadata": {},
     "output_type": "execute_result"
    }
   ],
   "source": [
    "list(db.books.find({\"rating\": {\"$gt\": 7}}))"
   ]
  },
  {
   "cell_type": "markdown",
   "metadata": {},
   "source": [
    "3. Obtenga todos los libros con una puntuación **menor** a 8 puntos. "
   ]
  },
  {
   "cell_type": "code",
   "execution_count": 11,
   "metadata": {},
   "outputs": [
    {
     "data": {
      "text/plain": [
       "[{'_id': ObjectId('6605ad351e744ca12a62d26a'),\n",
       "  'title': 'The Light Fantastic',\n",
       "  'author': 'Terry Pratchett',\n",
       "  'pages': 250,\n",
       "  'rating': 6,\n",
       "  'genres': ['fantasy', 'magic'],\n",
       "  'reviews': [{'name': 'luigi', 'body': 'it was pretty good'},\n",
       "   {'name': 'bowser', 'body': 'loved it!!'}]},\n",
       " {'_id': ObjectId('6605ad351e744ca12a62d26d'),\n",
       "  'title': '1984',\n",
       "  'author': 'George Orwell',\n",
       "  'pages': 300,\n",
       "  'rating': 6,\n",
       "  'genres': ['sci-fi', 'dystopian'],\n",
       "  'reviews': [{'name': 'peach', 'body': 'not my cup of tea'},\n",
       "   {'name': 'mario', 'body': 'meh'}]}]"
      ]
     },
     "execution_count": 11,
     "metadata": {},
     "output_type": "execute_result"
    }
   ],
   "source": [
    "list(db.books.find({\"rating\": {\"$lt\": 8}}))"
   ]
  },
  {
   "cell_type": "markdown",
   "metadata": {},
   "source": [
    "4. Obtenga todos los libros con una puntuación mayor a 7 puntos, cuyo autor sea Patrick Rothfuss. "
   ]
  },
  {
   "cell_type": "code",
   "execution_count": 12,
   "metadata": {},
   "outputs": [
    {
     "data": {
      "text/plain": [
       "[{'_id': ObjectId('6605ad351e744ca12a62d26b'),\n",
       "  'title': 'The Name of the Wind',\n",
       "  'author': 'Patrick Rothfuss',\n",
       "  'pages': 500,\n",
       "  'rating': 10,\n",
       "  'genres': ['fantasy'],\n",
       "  'reviews': [{'name': 'peach', 'body': 'one of my favs'}]}]"
      ]
     },
     "execution_count": 12,
     "metadata": {},
     "output_type": "execute_result"
    }
   ],
   "source": [
    "list(db.books.find({\"rating\": {\"$gt\": 7}, \"author\": \"Patrick Rothfuss\"}))"
   ]
  },
  {
   "cell_type": "markdown",
   "metadata": {},
   "source": [
    "5. Obtenga todos los libros con una puntuación de 7 o 9 puntos."
   ]
  },
  {
   "cell_type": "code",
   "execution_count": 15,
   "metadata": {},
   "outputs": [
    {
     "data": {
      "text/plain": [
       "[{'_id': ObjectId('6605ad351e744ca12a62d269'),\n",
       "  'title': 'The Way of Kings',\n",
       "  'author': 'Brandon Sanderson',\n",
       "  'rating': 9,\n",
       "  'pages': 320,\n",
       "  'genres': ['fantasy'],\n",
       "  'reviews': [{'name': 'Yoshi', 'body': 'Great book!!!'},\n",
       "   {'name': 'mario', 'body': 'So so'}]},\n",
       " {'_id': ObjectId('6605ad351e744ca12a62d26a'),\n",
       "  'title': 'The Light Fantastic',\n",
       "  'author': 'Terry Pratchett',\n",
       "  'pages': 250,\n",
       "  'rating': 6,\n",
       "  'genres': ['fantasy', 'magic'],\n",
       "  'reviews': [{'name': 'luigi', 'body': 'it was pretty good'},\n",
       "   {'name': 'bowser', 'body': 'loved it!!'}]},\n",
       " {'_id': ObjectId('6605ad351e744ca12a62d26d'),\n",
       "  'title': '1984',\n",
       "  'author': 'George Orwell',\n",
       "  'pages': 300,\n",
       "  'rating': 6,\n",
       "  'genres': ['sci-fi', 'dystopian'],\n",
       "  'reviews': [{'name': 'peach', 'body': 'not my cup of tea'},\n",
       "   {'name': 'mario', 'body': 'meh'}]}]"
      ]
     },
     "execution_count": 15,
     "metadata": {},
     "output_type": "execute_result"
    }
   ],
   "source": [
    "list(db.books.find({\"$or\": [{\"rating\": 6}, {\"rating\": 9}]}))"
   ]
  },
  {
   "cell_type": "code",
   "execution_count": 17,
   "metadata": {},
   "outputs": [
    {
     "data": {
      "text/plain": [
       "[{'_id': ObjectId('6605ad351e744ca12a62d26b'),\n",
       "  'title': 'The Name of the Wind',\n",
       "  'author': 'Patrick Rothfuss',\n",
       "  'pages': 500,\n",
       "  'rating': 10,\n",
       "  'genres': ['fantasy'],\n",
       "  'reviews': [{'name': 'peach', 'body': 'one of my favs'}]},\n",
       " {'_id': ObjectId('6605ad351e744ca12a62d26c'),\n",
       "  'title': 'The Color of Magic',\n",
       "  'author': 'Terry Pratchett',\n",
       "  'pages': 350,\n",
       "  'rating': 8,\n",
       "  'genres': ['fantasy', 'magic'],\n",
       "  'reviews': [{'name': 'luigi', 'body': 'it was ok'},\n",
       "   {'name': 'bowser', 'body': 'really good book'}]}]"
      ]
     },
     "execution_count": 17,
     "metadata": {},
     "output_type": "execute_result"
    }
   ],
   "source": [
    "list(db.books.find({\"rating\": {\"$nin\": [6,9]}}))"
   ]
  },
  {
   "cell_type": "markdown",
   "metadata": {},
   "source": [
    "6. Obtenga todos los libros con una puntuación de 6 puntos o el autor es Terry Pratchett."
   ]
  },
  {
   "cell_type": "code",
   "execution_count": 18,
   "metadata": {},
   "outputs": [
    {
     "data": {
      "text/plain": [
       "[{'_id': ObjectId('6605ad351e744ca12a62d26a'),\n",
       "  'title': 'The Light Fantastic',\n",
       "  'author': 'Terry Pratchett',\n",
       "  'pages': 250,\n",
       "  'rating': 6,\n",
       "  'genres': ['fantasy', 'magic'],\n",
       "  'reviews': [{'name': 'luigi', 'body': 'it was pretty good'},\n",
       "   {'name': 'bowser', 'body': 'loved it!!'}]},\n",
       " {'_id': ObjectId('6605ad351e744ca12a62d26c'),\n",
       "  'title': 'The Color of Magic',\n",
       "  'author': 'Terry Pratchett',\n",
       "  'pages': 350,\n",
       "  'rating': 8,\n",
       "  'genres': ['fantasy', 'magic'],\n",
       "  'reviews': [{'name': 'luigi', 'body': 'it was ok'},\n",
       "   {'name': 'bowser', 'body': 'really good book'}]},\n",
       " {'_id': ObjectId('6605ad351e744ca12a62d26d'),\n",
       "  'title': '1984',\n",
       "  'author': 'George Orwell',\n",
       "  'pages': 300,\n",
       "  'rating': 6,\n",
       "  'genres': ['sci-fi', 'dystopian'],\n",
       "  'reviews': [{'name': 'peach', 'body': 'not my cup of tea'},\n",
       "   {'name': 'mario', 'body': 'meh'}]}]"
      ]
     },
     "execution_count": 18,
     "metadata": {},
     "output_type": "execute_result"
    }
   ],
   "source": [
    "list(db.books.find({\"$or\": [{\"rating\": 6}, {\"author\": \"Terry Pratchett\"}]}))"
   ]
  },
  {
   "cell_type": "markdown",
   "metadata": {},
   "source": [
    "7. Obtenga todos los libros con menos de 300 páginas o más de 400."
   ]
  },
  {
   "cell_type": "code",
   "execution_count": 19,
   "metadata": {},
   "outputs": [
    {
     "data": {
      "text/plain": [
       "[{'_id': ObjectId('6605ad351e744ca12a62d26a'),\n",
       "  'title': 'The Light Fantastic',\n",
       "  'author': 'Terry Pratchett',\n",
       "  'pages': 250,\n",
       "  'rating': 6,\n",
       "  'genres': ['fantasy', 'magic'],\n",
       "  'reviews': [{'name': 'luigi', 'body': 'it was pretty good'},\n",
       "   {'name': 'bowser', 'body': 'loved it!!'}]},\n",
       " {'_id': ObjectId('6605ad351e744ca12a62d26b'),\n",
       "  'title': 'The Name of the Wind',\n",
       "  'author': 'Patrick Rothfuss',\n",
       "  'pages': 500,\n",
       "  'rating': 10,\n",
       "  'genres': ['fantasy'],\n",
       "  'reviews': [{'name': 'peach', 'body': 'one of my favs'}]}]"
      ]
     },
     "execution_count": 19,
     "metadata": {},
     "output_type": "execute_result"
    }
   ],
   "source": [
    "list(db.books.find({\n",
    "    \"$or\": [\n",
    "        {\"pages\": {\"$lt\": 300}}, \n",
    "        {\"pages\": {\"$gt\": 400}}\n",
    "    ]\n",
    "}))"
   ]
  },
  {
   "cell_type": "markdown",
   "metadata": {},
   "source": [
    "8. Obtenga todos los libros de fantasía."
   ]
  },
  {
   "cell_type": "code",
   "execution_count": 20,
   "metadata": {},
   "outputs": [
    {
     "data": {
      "text/plain": [
       "[{'_id': ObjectId('6605ad351e744ca12a62d269'),\n",
       "  'title': 'The Way of Kings',\n",
       "  'author': 'Brandon Sanderson',\n",
       "  'rating': 9,\n",
       "  'pages': 320,\n",
       "  'genres': ['fantasy'],\n",
       "  'reviews': [{'name': 'Yoshi', 'body': 'Great book!!!'},\n",
       "   {'name': 'mario', 'body': 'So so'}]},\n",
       " {'_id': ObjectId('6605ad351e744ca12a62d26a'),\n",
       "  'title': 'The Light Fantastic',\n",
       "  'author': 'Terry Pratchett',\n",
       "  'pages': 250,\n",
       "  'rating': 6,\n",
       "  'genres': ['fantasy', 'magic'],\n",
       "  'reviews': [{'name': 'luigi', 'body': 'it was pretty good'},\n",
       "   {'name': 'bowser', 'body': 'loved it!!'}]},\n",
       " {'_id': ObjectId('6605ad351e744ca12a62d26b'),\n",
       "  'title': 'The Name of the Wind',\n",
       "  'author': 'Patrick Rothfuss',\n",
       "  'pages': 500,\n",
       "  'rating': 10,\n",
       "  'genres': ['fantasy'],\n",
       "  'reviews': [{'name': 'peach', 'body': 'one of my favs'}]},\n",
       " {'_id': ObjectId('6605ad351e744ca12a62d26c'),\n",
       "  'title': 'The Color of Magic',\n",
       "  'author': 'Terry Pratchett',\n",
       "  'pages': 350,\n",
       "  'rating': 8,\n",
       "  'genres': ['fantasy', 'magic'],\n",
       "  'reviews': [{'name': 'luigi', 'body': 'it was ok'},\n",
       "   {'name': 'bowser', 'body': 'really good book'}]}]"
      ]
     },
     "execution_count": 20,
     "metadata": {},
     "output_type": "execute_result"
    }
   ],
   "source": [
    "list(db.books.find({\"genres\": \"fantasy\"}))"
   ]
  },
  {
   "cell_type": "markdown",
   "metadata": {},
   "source": [
    "9. Obtenga todos los libros que sólo sean de fantasía."
   ]
  },
  {
   "cell_type": "code",
   "execution_count": 21,
   "metadata": {},
   "outputs": [
    {
     "data": {
      "text/plain": [
       "[{'_id': ObjectId('6605ad351e744ca12a62d269'),\n",
       "  'title': 'The Way of Kings',\n",
       "  'author': 'Brandon Sanderson',\n",
       "  'rating': 9,\n",
       "  'pages': 320,\n",
       "  'genres': ['fantasy'],\n",
       "  'reviews': [{'name': 'Yoshi', 'body': 'Great book!!!'},\n",
       "   {'name': 'mario', 'body': 'So so'}]},\n",
       " {'_id': ObjectId('6605ad351e744ca12a62d26b'),\n",
       "  'title': 'The Name of the Wind',\n",
       "  'author': 'Patrick Rothfuss',\n",
       "  'pages': 500,\n",
       "  'rating': 10,\n",
       "  'genres': ['fantasy'],\n",
       "  'reviews': [{'name': 'peach', 'body': 'one of my favs'}]}]"
      ]
     },
     "execution_count": 21,
     "metadata": {},
     "output_type": "execute_result"
    }
   ],
   "source": [
    "list(db.books.find({\"genres\": [\"fantasy\"]}))"
   ]
  },
  {
   "cell_type": "markdown",
   "metadata": {},
   "source": [
    "10. Obtenga todos los libros de fantasía y ciencia ficción."
   ]
  },
  {
   "cell_type": "code",
   "execution_count": 26,
   "metadata": {},
   "outputs": [
    {
     "data": {
      "text/plain": [
       "InsertOneResult(ObjectId('6605b36c1e744ca12a62d273'), acknowledged=True)"
      ]
     },
     "execution_count": 26,
     "metadata": {},
     "output_type": "execute_result"
    }
   ],
   "source": [
    "db.books.insert_one({\n",
    "    \"title\": \"Lazy Title\",\n",
    "    \"genres\": [\"fantasy\", \"magic\", \"sci-fi\"]\n",
    "})"
   ]
  },
  {
   "cell_type": "code",
   "execution_count": 27,
   "metadata": {},
   "outputs": [
    {
     "data": {
      "text/plain": [
       "[{'_id': ObjectId('6605ad351e744ca12a62d26a'),\n",
       "  'title': 'The Light Fantastic',\n",
       "  'author': 'Terry Pratchett',\n",
       "  'pages': 250,\n",
       "  'rating': 6,\n",
       "  'genres': ['fantasy', 'magic'],\n",
       "  'reviews': [{'name': 'luigi', 'body': 'it was pretty good'},\n",
       "   {'name': 'bowser', 'body': 'loved it!!'}]},\n",
       " {'_id': ObjectId('6605ad351e744ca12a62d26c'),\n",
       "  'title': 'The Color of Magic',\n",
       "  'author': 'Terry Pratchett',\n",
       "  'pages': 350,\n",
       "  'rating': 8,\n",
       "  'genres': ['fantasy', 'magic'],\n",
       "  'reviews': [{'name': 'luigi', 'body': 'it was ok'},\n",
       "   {'name': 'bowser', 'body': 'really good book'}]},\n",
       " {'_id': ObjectId('6605b35f1e744ca12a62d272'),\n",
       "  'title': 'Lazy Title',\n",
       "  'genres': ['fantasy', 'magic', 'sci-fi']},\n",
       " {'_id': ObjectId('6605b36c1e744ca12a62d273'),\n",
       "  'title': 'Lazy Title',\n",
       "  'genres': ['fantasy', 'magic', 'sci-fi']}]"
      ]
     },
     "execution_count": 27,
     "metadata": {},
     "output_type": "execute_result"
    }
   ],
   "source": [
    "list(db.books.find({\"genres\": {\"$all\": [\"fantasy\", \"magic\"]}}))"
   ]
  },
  {
   "cell_type": "code",
   "execution_count": 24,
   "metadata": {},
   "outputs": [
    {
     "data": {
      "text/plain": [
       "[{'_id': ObjectId('6605ad351e744ca12a62d269'), 'genres': ['fantasy']},\n",
       " {'_id': ObjectId('6605ad351e744ca12a62d26a'), 'genres': ['fantasy', 'magic']},\n",
       " {'_id': ObjectId('6605ad351e744ca12a62d26b'), 'genres': ['fantasy']},\n",
       " {'_id': ObjectId('6605ad351e744ca12a62d26c'), 'genres': ['fantasy', 'magic']},\n",
       " {'_id': ObjectId('6605ad351e744ca12a62d26d'),\n",
       "  'genres': ['sci-fi', 'dystopian']}]"
      ]
     },
     "execution_count": 24,
     "metadata": {},
     "output_type": "execute_result"
    }
   ],
   "source": [
    "list(db.books.find({}, {\"genres\": 1}))"
   ]
  },
  {
   "cell_type": "markdown",
   "metadata": {},
   "source": [
    "11. Obtenga todos los libros en los que `luigi` haya comentado."
   ]
  },
  {
   "cell_type": "code",
   "execution_count": 28,
   "metadata": {},
   "outputs": [
    {
     "data": {
      "text/plain": [
       "[{'_id': ObjectId('6605ad351e744ca12a62d26a'),\n",
       "  'title': 'The Light Fantastic',\n",
       "  'author': 'Terry Pratchett',\n",
       "  'pages': 250,\n",
       "  'rating': 6,\n",
       "  'genres': ['fantasy', 'magic'],\n",
       "  'reviews': [{'name': 'luigi', 'body': 'it was pretty good'},\n",
       "   {'name': 'bowser', 'body': 'loved it!!'}]},\n",
       " {'_id': ObjectId('6605ad351e744ca12a62d26c'),\n",
       "  'title': 'The Color of Magic',\n",
       "  'author': 'Terry Pratchett',\n",
       "  'pages': 350,\n",
       "  'rating': 8,\n",
       "  'genres': ['fantasy', 'magic'],\n",
       "  'reviews': [{'name': 'luigi', 'body': 'it was ok'},\n",
       "   {'name': 'bowser', 'body': 'really good book'}]}]"
      ]
     },
     "execution_count": 28,
     "metadata": {},
     "output_type": "execute_result"
    }
   ],
   "source": [
    "list(db.books.find({\"reviews.name\": \"luigi\"}))"
   ]
  },
  {
   "cell_type": "markdown",
   "metadata": {},
   "source": [
    "12. Obtenga el ID del primer libro que aparece al ejecutar `db.books.find()` y elimínelo."
   ]
  },
  {
   "cell_type": "code",
   "execution_count": 31,
   "metadata": {},
   "outputs": [
    {
     "data": {
      "text/plain": [
       "DeleteResult({'n': 1, 'ok': 1.0}, acknowledged=True)"
      ]
     },
     "execution_count": 31,
     "metadata": {},
     "output_type": "execute_result"
    }
   ],
   "source": [
    "from bson import ObjectId\n",
    "db.books.delete_one({\"_id\": ObjectId(\"6605ad351e744ca12a62d26c\")})"
   ]
  },
  {
   "cell_type": "markdown",
   "metadata": {},
   "source": [
    "13. Elimine todos los libros de Terry Pratchett."
   ]
  },
  {
   "cell_type": "code",
   "execution_count": 32,
   "metadata": {},
   "outputs": [
    {
     "data": {
      "text/plain": [
       "DeleteResult({'n': 1, 'ok': 1.0}, acknowledged=True)"
      ]
     },
     "execution_count": 32,
     "metadata": {},
     "output_type": "execute_result"
    }
   ],
   "source": [
    "db.books.delete_many({\"author\": \"Terry Pratchett\"})"
   ]
  },
  {
   "cell_type": "markdown",
   "metadata": {},
   "source": [
    "14. Cambie la puntuación de *The Color of Magic* a 8 y la cantidad de páginas a 360."
   ]
  },
  {
   "cell_type": "code",
   "execution_count": 34,
   "metadata": {},
   "outputs": [
    {
     "data": {
      "text/plain": [
       "UpdateResult({'n': 1, 'nModified': 1, 'ok': 1.0, 'updatedExisting': True}, acknowledged=True)"
      ]
     },
     "execution_count": 34,
     "metadata": {},
     "output_type": "execute_result"
    }
   ],
   "source": [
    "db.books.update_one(\n",
    "    {\"title\": \"The Color of Magic\"}, \n",
    "    {\"$set\": {\n",
    "        \"rating\": 8,\n",
    "        \"pages\": 360\n",
    "    }})"
   ]
  },
  {
   "cell_type": "code",
   "execution_count": 35,
   "metadata": {},
   "outputs": [
    {
     "data": {
      "text/plain": [
       "{'_id': ObjectId('6605b5a51e744ca12a62d277'),\n",
       " 'title': 'The Color of Magic',\n",
       " 'author': 'Terry Pratchett',\n",
       " 'pages': 360,\n",
       " 'rating': 8,\n",
       " 'genres': ['fantasy', 'magic'],\n",
       " 'reviews': [{'name': 'luigi', 'body': 'it was ok'},\n",
       "  {'name': 'bowser', 'body': 'really good book'}]}"
      ]
     },
     "execution_count": 35,
     "metadata": {},
     "output_type": "execute_result"
    }
   ],
   "source": [
    "db.books.find_one({\"title\": \"The Color of Magic\"})"
   ]
  },
  {
   "cell_type": "markdown",
   "metadata": {},
   "source": [
    "15. Incremente por 2 la puntuación de todos los libros de Terry Pratchett."
   ]
  },
  {
   "cell_type": "code",
   "execution_count": 36,
   "metadata": {},
   "outputs": [
    {
     "data": {
      "text/plain": [
       "UpdateResult({'n': 2, 'nModified': 2, 'ok': 1.0, 'updatedExisting': True}, acknowledged=True)"
      ]
     },
     "execution_count": 36,
     "metadata": {},
     "output_type": "execute_result"
    }
   ],
   "source": [
    "db.books.update_many(\n",
    "    {\"author\": \"Terry Pratchett\"},\n",
    "    {\"$inc\": {\"rating\": 2}}\n",
    ")"
   ]
  },
  {
   "cell_type": "markdown",
   "metadata": {},
   "source": [
    "16. Obtenga la puntuación promedio y la cantidad de páginas escritas por autor."
   ]
  },
  {
   "cell_type": "code",
   "execution_count": 5,
   "metadata": {},
   "outputs": [
    {
     "data": {
      "text/plain": [
       "[{'_id': 'Patrick Rothfuss', 'averageRating': 10.0, 'totalPages': 500},\n",
       " {'_id': 'Brandon Sanderson', 'averageRating': 9.0, 'totalPages': 320},\n",
       " {'_id': 'Terry Pratchett', 'averageRating': 9.0, 'totalPages': 610},\n",
       " {'_id': 'George Orwell', 'averageRating': 6.0, 'totalPages': 300}]"
      ]
     },
     "execution_count": 5,
     "metadata": {},
     "output_type": "execute_result"
    }
   ],
   "source": [
    "list(db.books.aggregate([\n",
    "    {\"$group\": {\n",
    "        \"_id\": \"$author\",\n",
    "        \"averageRating\": {\"$avg\": \"$rating\"},\n",
    "        \"totalPages\": {\"$sum\": \"$pages\"}\n",
    "    }}\n",
    "]\n",
    "))"
   ]
  },
  {
   "cell_type": "markdown",
   "metadata": {},
   "source": [
    "17. Obtenga la cantidad de libros por género."
   ]
  },
  {
   "cell_type": "code",
   "execution_count": 6,
   "metadata": {},
   "outputs": [
    {
     "data": {
      "text/plain": [
       "[{'_id': ObjectId('6605b5a51e744ca12a62d278'),\n",
       "  'title': '1984',\n",
       "  'author': 'George Orwell',\n",
       "  'pages': 300,\n",
       "  'rating': 6,\n",
       "  'genres': ['sci-fi', 'dystopian'],\n",
       "  'reviews': [{'name': 'peach', 'body': 'not my cup of tea'},\n",
       "   {'name': 'mario', 'body': 'meh'}]},\n",
       " {'_id': ObjectId('6605b5a51e744ca12a62d277'),\n",
       "  'title': 'The Color of Magic',\n",
       "  'author': 'Terry Pratchett',\n",
       "  'pages': 360,\n",
       "  'rating': 10,\n",
       "  'genres': ['fantasy', 'magic'],\n",
       "  'reviews': [{'name': 'luigi', 'body': 'it was ok'},\n",
       "   {'name': 'bowser', 'body': 'really good book'}]},\n",
       " {'_id': ObjectId('6605b5a51e744ca12a62d275'),\n",
       "  'title': 'The Light Fantastic',\n",
       "  'author': 'Terry Pratchett',\n",
       "  'pages': 250,\n",
       "  'rating': 8,\n",
       "  'genres': ['fantasy', 'magic'],\n",
       "  'reviews': [{'name': 'luigi', 'body': 'it was pretty good'},\n",
       "   {'name': 'bowser', 'body': 'loved it!!'}]},\n",
       " {'_id': ObjectId('6605b5a51e744ca12a62d276'),\n",
       "  'title': 'The Name of the Wind',\n",
       "  'author': 'Patrick Rothfuss',\n",
       "  'pages': 500,\n",
       "  'rating': 10,\n",
       "  'genres': ['fantasy'],\n",
       "  'reviews': [{'name': 'peach', 'body': 'one of my favs'}]},\n",
       " {'_id': ObjectId('6605b5a51e744ca12a62d274'),\n",
       "  'title': 'The Way of Kings',\n",
       "  'author': 'Brandon Sanderson',\n",
       "  'rating': 9,\n",
       "  'pages': 320,\n",
       "  'genres': ['fantasy'],\n",
       "  'reviews': [{'name': 'Yoshi', 'body': 'Great book!!!'},\n",
       "   {'name': 'mario', 'body': 'So so'}]}]"
      ]
     },
     "execution_count": 6,
     "metadata": {},
     "output_type": "execute_result"
    }
   ],
   "source": [
    "list(db.books\n",
    "     .find({\"author\": \"Terry Pratchett\"})\n",
    "     .sort({\"title\": 1})\n",
    "     .limit(1)\n",
    "    )"
   ]
  },
  {
   "cell_type": "markdown",
   "metadata": {},
   "source": [
    "list(db.books.aggregate([\n",
    "    {\"$unwind\": \"$genres\"},\n",
    "    {\n",
    "        \"$group\": {\n",
    "            \"_id\": \"$genres\",\n",
    "            \"count\": {\"$sum\": 1}\n",
    "        }\n",
    "    },\n",
    "    {\"$sort\": {\"count\": -1}}\n",
    "]))"
   ]
  },
  {
   "cell_type": "code",
   "execution_count": null,
   "metadata": {},
   "outputs": [],
   "source": []
  },
  {
   "cell_type": "markdown",
   "metadata": {},
   "source": [
    "18. Obtenga todos los libros con la información del autor correspondiente."
   ]
  },
  {
   "cell_type": "code",
   "execution_count": 12,
   "metadata": {},
   "outputs": [
    {
     "data": {
      "text/plain": [
       "[{'_id': ObjectId('6605b5a51e744ca12a62d274'),\n",
       "  'title': 'The Way of Kings',\n",
       "  'author': 'Brandon Sanderson',\n",
       "  'rating': 9,\n",
       "  'authorBirthYear': 1975,\n",
       "  'authorNationality': 'American',\n",
       "  'authorAwards': ['Hugo Award for Best Novella']},\n",
       " {'_id': ObjectId('6605b5a51e744ca12a62d275'),\n",
       "  'title': 'The Light Fantastic',\n",
       "  'author': 'Terry Pratchett',\n",
       "  'rating': 8,\n",
       "  'authorBirthYear': 1948,\n",
       "  'authorNationality': 'British',\n",
       "  'authorAwards': ['Carnegie Medal']},\n",
       " {'_id': ObjectId('6605b5a51e744ca12a62d276'),\n",
       "  'title': 'The Name of the Wind',\n",
       "  'author': 'Patrick Rothfuss',\n",
       "  'rating': 10,\n",
       "  'authorBirthYear': 1973,\n",
       "  'authorNationality': 'American',\n",
       "  'authorAwards': ['Quill Award']},\n",
       " {'_id': ObjectId('6605b5a51e744ca12a62d277'),\n",
       "  'title': 'The Color of Magic',\n",
       "  'author': 'Terry Pratchett',\n",
       "  'rating': 10,\n",
       "  'authorBirthYear': 1948,\n",
       "  'authorNationality': 'British',\n",
       "  'authorAwards': ['Carnegie Medal']},\n",
       " {'_id': ObjectId('6605b5a51e744ca12a62d278'),\n",
       "  'title': '1984',\n",
       "  'author': 'George Orwell',\n",
       "  'rating': 6,\n",
       "  'authorBirthYear': 1903,\n",
       "  'authorNationality': 'British',\n",
       "  'authorAwards': []}]"
      ]
     },
     "execution_count": 12,
     "metadata": {},
     "output_type": "execute_result"
    }
   ],
   "source": [
    "pipeline = [\n",
    "    {\n",
    "        '$lookup': {\n",
    "            'from': \"authors\",  # The collection to join\n",
    "            'localField': \"author\",  # The field from the books collection\n",
    "            'foreignField': \"name\",  # The field from the authors collection\n",
    "            'as': \"authorDetails\"  # The output array field\n",
    "        }\n",
    "    },\n",
    "    {\n",
    "        '$unwind': '$authorDetails'  # Optional: to flatten the authorDetails if you're sure it's always one author\n",
    "    },\n",
    "    {\n",
    "        '$project': {\n",
    "            'title': 1,\n",
    "            'rating': 1,\n",
    "            'author': 1,\n",
    "            'authorBirthYear': '$authorDetails.birthYear',\n",
    "            'authorNationality': '$authorDetails.nationality',\n",
    "            'authorAwards': '$authorDetails.awards'\n",
    "        }\n",
    "    }\n",
    "]\n",
    "\n",
    "list(db.books.aggregate(pipeline))"
   ]
  }
 ],
 "metadata": {
  "kernelspec": {
   "display_name": "Python 3",
   "language": "python",
   "name": "python3"
  },
  "language_info": {
   "codemirror_mode": {
    "name": "ipython",
    "version": 3
   },
   "file_extension": ".py",
   "mimetype": "text/x-python",
   "name": "python",
   "nbconvert_exporter": "python",
   "pygments_lexer": "ipython3",
   "version": "3.11.3"
  }
 },
 "nbformat": 4,
 "nbformat_minor": 2
}
